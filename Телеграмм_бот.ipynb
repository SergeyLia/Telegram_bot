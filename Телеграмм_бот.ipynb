{
  "nbformat": 4,
  "nbformat_minor": 0,
  "metadata": {
    "colab": {
      "provenance": [],
      "authorship_tag": "ABX9TyNZln0niTfT411zITN8tL1x",
      "include_colab_link": true
    },
    "kernelspec": {
      "name": "python3",
      "display_name": "Python 3"
    },
    "language_info": {
      "name": "python"
    }
  },
  "cells": [
    {
      "cell_type": "markdown",
      "metadata": {
        "id": "view-in-github",
        "colab_type": "text"
      },
      "source": [
        "<a href=\"https://colab.research.google.com/github/SergeyLia/Telegram_bot/blob/main/%D0%A2%D0%B5%D0%BB%D0%B5%D0%B3%D1%80%D0%B0%D0%BC%D0%BC_%D0%B1%D0%BE%D1%82.ipynb\" target=\"_parent\"><img src=\"https://colab.research.google.com/assets/colab-badge.svg\" alt=\"Open In Colab\"/></a>"
      ]
    },
    {
      "cell_type": "code",
      "source": [
        "!pip install pyTelegramBotAPI\n",
        "!pip install pyTelegramBotAPI SpeechRecognition pydub\n",
        "!pip install SpeechRecognition\n",
        "!pip install pydub"
      ],
      "metadata": {
        "id": "fNudib0lvB9N"
      },
      "execution_count": null,
      "outputs": []
    },
    {
      "cell_type": "code",
      "execution_count": 3,
      "metadata": {
        "id": "o-GYzQpPuwqA"
      },
      "outputs": [],
      "source": [
        "import os\n",
        "import telebot\n",
        "import speech_recognition\n",
        "from pydub import AudioSegment\n",
        "from PIL import Image, ImageEnhance, ImageFilter\n",
        "\n",
        "\n",
        "token = '----'\n",
        "\n",
        "bot = telebot.TeleBot(token)\n",
        "\n",
        "\n",
        "def transform_image(filename):\n",
        "    # Функция обработки изображения\n",
        "    source_image = Image.open(filename)\n",
        "    enhanced_image = source_image.filter(ImageFilter.EMBOSS)\n",
        "    enhanced_image = enhanced_image.convert('RGB')\n",
        "    enhanced_image.save(filename)\n",
        "    return filename\n",
        "\n",
        "\n",
        "@bot.message_handler(content_types=['photo'])\n",
        "def resend_photo(message):\n",
        "    # Функция отправки обработанного изображения\n",
        "    file_id = message.photo[-1].file_id\n",
        "    filename = download_file(bot, file_id)\n",
        "\n",
        "    # Трансформируем изображение\n",
        "    transform_image(filename)\n",
        "\n",
        "    image = open(filename, 'rb')\n",
        "    bot.send_photo(message.chat.id, image)\n",
        "    image.close()\n",
        "\n",
        "    # Удаляем ненужные изображения\n",
        "    if os.path.exists(filename):\n",
        "        os.remove(filename)\n",
        "\n",
        "\n",
        "def oga2wav(filename):\n",
        "    # Конвертация формата файлов\n",
        "    new_filename = filename.replace('.oga', '.wav')\n",
        "    audio = AudioSegment.from_file(filename)\n",
        "    audio.export(new_filename, format='wav')\n",
        "    return new_filename\n",
        "\n",
        "\n",
        "def recognize_speech(oga_filename):\n",
        "    # Перевод голоса в текст + удаление использованных файлов\n",
        "    wav_filename = oga2wav(oga_filename)\n",
        "    recognizer = speech_recognition.Recognizer()\n",
        "\n",
        "    with speech_recognition.WavFile(wav_filename) as source:\n",
        "        wav_audio = recognizer.record(source)\n",
        "\n",
        "    text = recognizer.recognize_google(wav_audio, language='ru')\n",
        "\n",
        "    if os.path.exists(oga_filename):\n",
        "        os.remove(oga_filename)\n",
        "\n",
        "    if os.path.exists(wav_filename):\n",
        "        os.remove(wav_filename)\n",
        "\n",
        "    return text\n",
        "\n",
        "\n",
        "def download_file(bot, file_id):\n",
        "    # Скачивание файла, который прислал пользователь\n",
        "    file_info = bot.get_file(file_id)\n",
        "    downloaded_file = bot.download_file(file_info.file_path)\n",
        "    filename = file_id + file_info.file_path\n",
        "    filename = filename.replace('/', '_')\n",
        "    with open(filename, 'wb') as f:\n",
        "        f.write(downloaded_file)\n",
        "    return filename\n",
        "\n",
        "\n",
        "@bot.message_handler(commands=['start'])\n",
        "def say_hi(message):\n",
        "    # Функция, отправляющая \"Привет\" в ответ на команду /start\n",
        "    bot.send_message(message.chat.id, 'Привет')\n",
        "\n",
        "\n",
        "@bot.message_handler(content_types=['voice'])\n",
        "def transcript(message):\n",
        "    # Функция, отправляющая текст в ответ на голосовое\n",
        "    filename = download_file(bot, message.voice.file_id)\n",
        "    text = recognize_speech(filename)\n",
        "    bot.send_message(message.chat.id, text)\n",
        "\n",
        "\n",
        "# Запускаем бота.\n",
        "bot.polling()"
      ]
    }
  ]
}