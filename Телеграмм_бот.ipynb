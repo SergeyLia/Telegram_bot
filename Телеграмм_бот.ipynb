{
  "nbformat": 4,
  "nbformat_minor": 0,
  "metadata": {
    "colab": {
      "provenance": [],
      "authorship_tag": "ABX9TyP36PZoOSy7UpkxZAShViM+"
    },
    "kernelspec": {
      "name": "python3",
      "display_name": "Python 3"
    },
    "language_info": {
      "name": "python"
    }
  },
  "cells": [
    {
      "cell_type": "code",
      "source": [
        "!pip install pyTelegramBotAPI\n",
        "!pip install pyTelegramBotAPI SpeechRecognition pydub\n",
        "!pip install SpeechRecognition\n",
        "!pip install pydub"
      ],
      "metadata": {
        "id": "fNudib0lvB9N"
      },
      "execution_count": null,
      "outputs": []
    },
    {
      "cell_type": "code",
      "execution_count": null,
      "metadata": {
        "id": "o-GYzQpPuwqA"
      },
      "outputs": [],
      "source": [
        "import os\n",
        "import telebot\n",
        "import speech_recognition\n",
        "from pydub import AudioSegment\n",
        "\n",
        "\n",
        "token = '---'\n",
        "\n",
        "bot = telebot.TeleBot(token)\n",
        "\n",
        "\n",
        "def oga2wav(filename):\n",
        "    # Конвертация формата файлов\n",
        "    if filename.endswith('.oga'):\n",
        "        new_filename = filename.replace('.oga', '.wav')\n",
        "    elif filename.endswith('.m4a'):\n",
        "        new_filename = filename.replace('.m4a', '.wav')\n",
        "    else:\n",
        "        raise ValueError(\"Unsupported file format\")\n",
        "    audio = AudioSegment.from_file(filename)\n",
        "    audio.export(new_filename, format='wav')\n",
        "    return new_filename\n",
        "\n",
        "def recognize_speech(oga_filename):\n",
        "    # Перевод голоса в текст + удаление использованных файлов\n",
        "    wav_filename = oga2wav(oga_filename)\n",
        "    recognizer = speech_recognition.Recognizer()\n",
        "\n",
        "    with speech_recognition.WavFile(wav_filename) as source:\n",
        "        wav_audio = recognizer.record(source)\n",
        "\n",
        "    text = recognizer.recognize_google(wav_audio, language='ru')\n",
        "\n",
        "    if os.path.exists(oga_filename):\n",
        "        os.remove(oga_filename)\n",
        "\n",
        "    if os.path.exists(wav_filename):\n",
        "        os.remove(wav_filename)\n",
        "\n",
        "    return text\n",
        "\n",
        "\n",
        "def download_file(bot, file_id):\n",
        "    # Скачивание файла, который прислал пользователь\n",
        "    file_info = bot.get_file(file_id)\n",
        "    downloaded_file = bot.download_file(file_info.file_path)\n",
        "    filename = file_id + file_info.file_path\n",
        "    filename = filename.replace('/', '_')\n",
        "    with open(filename, 'wb') as f:\n",
        "        f.write(downloaded_file)\n",
        "    return filename\n",
        "\n",
        "\n",
        "@bot.message_handler(commands=['start'])\n",
        "def say_hi(message):\n",
        "    # Функция, отправляющая \"Привет\" в ответ на команду /start\n",
        "    username = message.from_user.first_name\n",
        "    bot.send_message(message.chat.id, f'Привет, {username}!')\n",
        "\n",
        "\n",
        "@bot.message_handler(content_types=['voice'])\n",
        "def transcript(message):\n",
        "    # Функция, отправляющая текст в ответ на голосовое\n",
        "    filename = download_file(bot, message.voice.file_id)\n",
        "    text = recognize_speech(filename)\n",
        "    bot.send_message(message.chat.id, text)\n",
        "\n",
        "bot.polling()"
      ]
    }
  ]
}